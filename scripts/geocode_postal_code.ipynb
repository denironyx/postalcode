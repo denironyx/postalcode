{
 "cells": [
  {
   "cell_type": "code",
   "execution_count": 3,
   "metadata": {},
   "outputs": [],
   "source": [
    "from geopy.geocoders import Nominatim\n",
    "import pandas as pd"
   ]
  },
  {
   "cell_type": "code",
   "execution_count": 19,
   "metadata": {},
   "outputs": [],
   "source": [
    "# data transformation\n",
    "df = pd.read_csv('../data/fct-postal-code.csv')"
   ]
  },
  {
   "cell_type": "code",
   "execution_count": 20,
   "metadata": {},
   "outputs": [],
   "source": [
    "df['Address'] = 'FCT, ' + df['Area'] + ', ' + df['Street']"
   ]
  },
  {
   "cell_type": "code",
   "execution_count": 21,
   "metadata": {},
   "outputs": [],
   "source": [
    "df_code = df.head(10)"
   ]
  },
  {
   "cell_type": "code",
   "execution_count": 22,
   "metadata": {},
   "outputs": [
    {
     "data": {
      "text/html": [
       "<div>\n",
       "<style scoped>\n",
       "    .dataframe tbody tr th:only-of-type {\n",
       "        vertical-align: middle;\n",
       "    }\n",
       "\n",
       "    .dataframe tbody tr th {\n",
       "        vertical-align: top;\n",
       "    }\n",
       "\n",
       "    .dataframe thead th {\n",
       "        text-align: right;\n",
       "    }\n",
       "</style>\n",
       "<table border=\"1\" class=\"dataframe\">\n",
       "  <thead>\n",
       "    <tr style=\"text-align: right;\">\n",
       "      <th></th>\n",
       "      <th>Area</th>\n",
       "      <th>Street</th>\n",
       "      <th>Postal Code</th>\n",
       "      <th>Address</th>\n",
       "    </tr>\n",
       "  </thead>\n",
       "  <tbody>\n",
       "    <tr>\n",
       "      <th>0</th>\n",
       "      <td>Asokoro</td>\n",
       "      <td>Ajayi Cresentwder Street</td>\n",
       "      <td>900231.0</td>\n",
       "      <td>FCT, Asokoro, Ajayi Cresentwder Street</td>\n",
       "    </tr>\n",
       "    <tr>\n",
       "      <th>1</th>\n",
       "      <td>Asokoro</td>\n",
       "      <td>Akenzua Street</td>\n",
       "      <td>900231.0</td>\n",
       "      <td>FCT, Asokoro, Akenzua Street</td>\n",
       "    </tr>\n",
       "    <tr>\n",
       "      <th>2</th>\n",
       "      <td>Asokoro</td>\n",
       "      <td>Ali Akihi Cresent</td>\n",
       "      <td>900231.0</td>\n",
       "      <td>FCT, Asokoro, Ali Akihi Cresent</td>\n",
       "    </tr>\n",
       "    <tr>\n",
       "      <th>3</th>\n",
       "      <td>Asokoro</td>\n",
       "      <td>Anwar Sadat Street</td>\n",
       "      <td>900231.0</td>\n",
       "      <td>FCT, Asokoro, Anwar Sadat Street</td>\n",
       "    </tr>\n",
       "    <tr>\n",
       "      <th>4</th>\n",
       "      <td>Asokoro</td>\n",
       "      <td>Dennis Osadebe Street</td>\n",
       "      <td>900231.0</td>\n",
       "      <td>FCT, Asokoro, Dennis Osadebe Street</td>\n",
       "    </tr>\n",
       "    <tr>\n",
       "      <th>5</th>\n",
       "      <td>Asokoro</td>\n",
       "      <td>El-Emi Street</td>\n",
       "      <td>900231.0</td>\n",
       "      <td>FCT, Asokoro, El-Emi Street</td>\n",
       "    </tr>\n",
       "    <tr>\n",
       "      <th>6</th>\n",
       "      <td>Asokoro</td>\n",
       "      <td>Gandhi Street</td>\n",
       "      <td>900231.0</td>\n",
       "      <td>FCT, Asokoro, Gandhi Street</td>\n",
       "    </tr>\n",
       "    <tr>\n",
       "      <th>7</th>\n",
       "      <td>Asokoro</td>\n",
       "      <td>Ibrahim Taiwo Street</td>\n",
       "      <td>900231.0</td>\n",
       "      <td>FCT, Asokoro, Ibrahim Taiwo Street</td>\n",
       "    </tr>\n",
       "    <tr>\n",
       "      <th>8</th>\n",
       "      <td>Asokoro</td>\n",
       "      <td>Jesse Jackson Street</td>\n",
       "      <td>900231.0</td>\n",
       "      <td>FCT, Asokoro, Jesse Jackson Street</td>\n",
       "    </tr>\n",
       "    <tr>\n",
       "      <th>9</th>\n",
       "      <td>Asokoro</td>\n",
       "      <td>Jimmy Cater Street</td>\n",
       "      <td>900231.0</td>\n",
       "      <td>FCT, Asokoro, Jimmy Cater Street</td>\n",
       "    </tr>\n",
       "  </tbody>\n",
       "</table>\n",
       "</div>"
      ],
      "text/plain": [
       "      Area                    Street  Postal Code  \\\n",
       "0  Asokoro  Ajayi Cresentwder Street     900231.0   \n",
       "1  Asokoro            Akenzua Street     900231.0   \n",
       "2  Asokoro         Ali Akihi Cresent     900231.0   \n",
       "3  Asokoro        Anwar Sadat Street     900231.0   \n",
       "4  Asokoro     Dennis Osadebe Street     900231.0   \n",
       "5  Asokoro             El-Emi Street     900231.0   \n",
       "6  Asokoro             Gandhi Street     900231.0   \n",
       "7  Asokoro      Ibrahim Taiwo Street     900231.0   \n",
       "8  Asokoro      Jesse Jackson Street     900231.0   \n",
       "9  Asokoro        Jimmy Cater Street     900231.0   \n",
       "\n",
       "                                  Address  \n",
       "0  FCT, Asokoro, Ajayi Cresentwder Street  \n",
       "1            FCT, Asokoro, Akenzua Street  \n",
       "2         FCT, Asokoro, Ali Akihi Cresent  \n",
       "3        FCT, Asokoro, Anwar Sadat Street  \n",
       "4     FCT, Asokoro, Dennis Osadebe Street  \n",
       "5             FCT, Asokoro, El-Emi Street  \n",
       "6             FCT, Asokoro, Gandhi Street  \n",
       "7      FCT, Asokoro, Ibrahim Taiwo Street  \n",
       "8      FCT, Asokoro, Jesse Jackson Street  \n",
       "9        FCT, Asokoro, Jimmy Cater Street  "
      ]
     },
     "execution_count": 22,
     "metadata": {},
     "output_type": "execute_result"
    }
   ],
   "source": [
    "df_code"
   ]
  },
  {
   "cell_type": "code",
   "execution_count": 2,
   "metadata": {},
   "outputs": [],
   "source": [
    "geocoder = Nominatim"
   ]
  },
  {
   "cell_type": "code",
   "execution_count": 23,
   "metadata": {},
   "outputs": [
    {
     "name": "stdout",
     "output_type": "stream",
     "text": [
      "Area\n",
      "Street\n",
      "Postal Code\n",
      "Address\n"
     ]
    }
   ],
   "source": [
    "for data in df_code:\n",
    "    print(data)"
   ]
  },
  {
   "cell_type": "code",
   "execution_count": 24,
   "metadata": {},
   "outputs": [],
   "source": [
    "def geocode_address(dataframe):\n",
    "    geolocator = Nominatim(user_agent=\"postal-code-geocoding\")\n",
    "    for index, row in dataframe.iterrows():\n",
    "        address = row['Address']\n",
    "        location = geolocator.geocode(address)\n",
    "        if location:\n",
    "            print(f'Found coordinate for: {address}')\n",
    "            dataframe.at[index, 'Latitude'] = location.latitude\n",
    "            dataframe.at[index, 'Longitude'] = location.longitude\n",
    "            dataframe.at[index, 'Other'] = location.address"
   ]
  },
  {
   "cell_type": "code",
   "execution_count": 25,
   "metadata": {},
   "outputs": [
    {
     "name": "stdout",
     "output_type": "stream",
     "text": [
      "Found coordinate for: FCT, Asokoro, Akenzua Street\n"
     ]
    },
    {
     "name": "stderr",
     "output_type": "stream",
     "text": [
      "C:\\Users\\Dee\\AppData\\Local\\Temp\\ipykernel_71532\\267158718.py:8: SettingWithCopyWarning: \n",
      "A value is trying to be set on a copy of a slice from a DataFrame.\n",
      "Try using .loc[row_indexer,col_indexer] = value instead\n",
      "\n",
      "See the caveats in the documentation: https://pandas.pydata.org/pandas-docs/stable/user_guide/indexing.html#returning-a-view-versus-a-copy\n",
      "  dataframe.at[index, 'Latitude'] = location.latitude\n",
      "C:\\Users\\Dee\\AppData\\Local\\Temp\\ipykernel_71532\\267158718.py:9: SettingWithCopyWarning: \n",
      "A value is trying to be set on a copy of a slice from a DataFrame.\n",
      "Try using .loc[row_indexer,col_indexer] = value instead\n",
      "\n",
      "See the caveats in the documentation: https://pandas.pydata.org/pandas-docs/stable/user_guide/indexing.html#returning-a-view-versus-a-copy\n",
      "  dataframe.at[index, 'Longitude'] = location.longitude\n",
      "C:\\Users\\Dee\\AppData\\Local\\Temp\\ipykernel_71532\\267158718.py:10: SettingWithCopyWarning: \n",
      "A value is trying to be set on a copy of a slice from a DataFrame.\n",
      "Try using .loc[row_indexer,col_indexer] = value instead\n",
      "\n",
      "See the caveats in the documentation: https://pandas.pydata.org/pandas-docs/stable/user_guide/indexing.html#returning-a-view-versus-a-copy\n",
      "  dataframe.at[index, 'Other'] = location.address\n"
     ]
    },
    {
     "name": "stdout",
     "output_type": "stream",
     "text": [
      "Found coordinate for: FCT, Asokoro, Dennis Osadebe Street\n",
      "Found coordinate for: FCT, Asokoro, Gandhi Street\n",
      "Found coordinate for: FCT, Asokoro, Jesse Jackson Street\n"
     ]
    }
   ],
   "source": [
    "geocode_address(df_code)"
   ]
  },
  {
   "cell_type": "code",
   "execution_count": 34,
   "metadata": {},
   "outputs": [],
   "source": [
    "df_code.to_csv('../data/test.csv', index=False)"
   ]
  },
  {
   "cell_type": "code",
   "execution_count": null,
   "metadata": {},
   "outputs": [],
   "source": [
    "def verify_address(address):\n",
    "    geolocator = Nominatim(user_agent=\"postal-code-verification\")\n",
    "    location = geolocator.geocode(address)\n",
    "    if location:\n",
    "        print(\"Address is valid.\")\n",
    "        print(\"Verified Address: \", location.address)\n",
    "        print(\"Latitude:\", location.latitude, \"| Longitude:\", location.longitude)\n",
    "        return location.latitude, location.longitude\n",
    "    else:\n",
    "        print(\"Address is invalid.\")\n",
    "        return None, None"
   ]
  }
 ],
 "metadata": {
  "kernelspec": {
   "display_name": "venv",
   "language": "python",
   "name": "python3"
  },
  "language_info": {
   "codemirror_mode": {
    "name": "ipython",
    "version": 3
   },
   "file_extension": ".py",
   "mimetype": "text/x-python",
   "name": "python",
   "nbconvert_exporter": "python",
   "pygments_lexer": "ipython3",
   "version": "3.11.4"
  }
 },
 "nbformat": 4,
 "nbformat_minor": 2
}
