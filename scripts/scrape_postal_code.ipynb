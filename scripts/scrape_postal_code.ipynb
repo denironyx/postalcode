{
 "cells": [
  {
   "cell_type": "code",
   "execution_count": 4,
   "metadata": {},
   "outputs": [],
   "source": [
    "import pandas as pd\n",
    "import requests\n",
    "from bs4 import BeautifulSoup"
   ]
  },
  {
   "cell_type": "code",
   "execution_count": 6,
   "metadata": {},
   "outputs": [],
   "source": [
    "import requests\n",
    "from bs4 import BeautifulSoup\n",
    "\n",
    "# URL of the website\n",
    "url = \"https://postalcode.ng/garki-area-10-postal-code-zip-code-abuja-fct/\"\n",
    "\n",
    "# Send an HTTP GET request to the website\n",
    "response = requests.get(url)\n",
    "\n"
   ]
  },
  {
   "cell_type": "code",
   "execution_count": 11,
   "metadata": {},
   "outputs": [
    {
     "name": "stdout",
     "output_type": "stream",
     "text": [
      "None\n"
     ]
    }
   ],
   "source": [
    "# Parse the HTML content using Beautiful Soup\n",
    "soup = BeautifulSoup(response.content, \"html.parser\")\n",
    "\n",
    "# Find the element that contains the postal code\n",
    "postal_code_element = soup.find(\"span\", class_=\"wp-block-table\")\n",
    "\n",
    "print(postal_code_element)"
   ]
  },
  {
   "cell_type": "code",
   "execution_count": 13,
   "metadata": {},
   "outputs": [
    {
     "data": {
      "text/plain": [
       "<tbody>\n",
       "<tr>\n",
       "<td><strong>Location</strong></td>\n",
       "<td><strong>Postcode</strong></td>\n",
       "</tr>\n",
       "<tr>\n",
       "<td>Access Road Rd.</td>\n",
       "<td>900246</td>\n",
       "</tr>\n",
       "<tr>\n",
       "<td>Akure St.</td>\n",
       "<td>900246</td>\n",
       "</tr>\n",
       "<tr>\n",
       "<td>Borno St.</td>\n",
       "<td>900246</td>\n",
       "</tr>\n",
       "<tr>\n",
       "<td>Herbert Macaulay Way</td>\n",
       "<td>900246</td>\n",
       "</tr>\n",
       "<tr>\n",
       "<td>Idah St.</td>\n",
       "<td>900246</td>\n",
       "</tr>\n",
       "<tr>\n",
       "<td>Markui St.</td>\n",
       "<td>900246</td>\n",
       "</tr>\n",
       "<tr>\n",
       "<td>Mashood Abiola Way</td>\n",
       "<td>900246</td>\n",
       "</tr>\n",
       "<tr>\n",
       "<td>Muhammadu Buhari Way</td>\n",
       "<td>900246</td>\n",
       "</tr>\n",
       "<tr>\n",
       "<td>Olusegun Obasanjo Way</td>\n",
       "<td>900246</td>\n",
       "</tr>\n",
       "</tbody>"
      ]
     },
     "execution_count": 13,
     "metadata": {},
     "output_type": "execute_result"
    }
   ],
   "source": [
    "table_body = soup.find(\"tbody\")\n",
    "table_body"
   ]
  },
  {
   "cell_type": "code",
   "execution_count": 15,
   "metadata": {},
   "outputs": [],
   "source": [
    "rows = table_body.find_all(\"tr\")\n",
    "postal_code = None"
   ]
  },
  {
   "cell_type": "code",
   "execution_count": 18,
   "metadata": {},
   "outputs": [
    {
     "name": "stdout",
     "output_type": "stream",
     "text": [
      "Postal code not found on the page.\n"
     ]
    }
   ],
   "source": [
    "for row in rows:\n",
    "    columns = row.find_all(\"td\")\n",
    "    if len(columns) >= 2:\n",
    "        label = columns[0].get_text(strip=True)\n",
    "        if label == \"Postal Code:\":\n",
    "            postal_code = columns[1].get_text(strip=True)\n",
    "            break\n",
    "\n",
    "if postal_code:\n",
    "    print(\"Postal Code:\", postal_code)\n",
    "else:\n",
    "    print(\"Postal code not found on the page.\")"
   ]
  },
  {
   "cell_type": "code",
   "execution_count": 24,
   "metadata": {},
   "outputs": [
    {
     "name": "stdout",
     "output_type": "stream",
     "text": [
      "Empty DataFrame\n",
      "Columns: [Location, Postcode]\n",
      "Index: []\n"
     ]
    }
   ],
   "source": [
    "td_elements = table_body.find_all(\"td\")\n",
    "\n",
    "# Initialize empty lists for locations and postcodes\n",
    "locations = []\n",
    "postcodes = []\n",
    "\n",
    "# Iterate through the <td> elements\n",
    "for td in td_elements:\n",
    "    if \"<strong>\" in td:  # Skip header elements\n",
    "        continue\n",
    "    if \"<td>\" in td:\n",
    "        if td.startswith(\"<td>\"):\n",
    "            locations.append(td.lstrip(\"<td>\").rstrip(\"</td>\"))\n",
    "        else:\n",
    "            postcodes.append(td.lstrip(\"<td>\").rstrip(\"</td>\"))\n",
    "\n",
    "# Create a DataFrame\n",
    "data = {\"Location\": locations, \"Postcode\": postcodes}\n",
    "df = pd.DataFrame(data)\n",
    "\n",
    "print(df)"
   ]
  },
  {
   "cell_type": "code",
   "execution_count": 25,
   "metadata": {},
   "outputs": [
    {
     "name": "stdout",
     "output_type": "stream",
     "text": [
      "<td><strong>Location</strong></td>\n",
      "<td><strong>Postcode</strong></td>\n",
      "<td>Access Road Rd.</td>\n",
      "<td>900246</td>\n",
      "<td>Akure St.</td>\n",
      "<td>900246</td>\n",
      "<td>Borno St.</td>\n",
      "<td>900246</td>\n",
      "<td>Herbert Macaulay Way</td>\n",
      "<td>900246</td>\n",
      "<td>Idah St.</td>\n",
      "<td>900246</td>\n",
      "<td>Markui St.</td>\n",
      "<td>900246</td>\n",
      "<td>Mashood Abiola Way</td>\n",
      "<td>900246</td>\n",
      "<td>Muhammadu Buhari Way</td>\n",
      "<td>900246</td>\n",
      "<td>Olusegun Obasanjo Way</td>\n",
      "<td>900246</td>\n"
     ]
    }
   ],
   "source": [
    "for td in td_elements:\n",
    "    print(td)"
   ]
  }
 ],
 "metadata": {
  "kernelspec": {
   "display_name": "Python 3",
   "language": "python",
   "name": "python3"
  },
  "language_info": {
   "codemirror_mode": {
    "name": "ipython",
    "version": 3
   },
   "file_extension": ".py",
   "mimetype": "text/x-python",
   "name": "python",
   "nbconvert_exporter": "python",
   "pygments_lexer": "ipython3",
   "version": "3.11.4"
  },
  "orig_nbformat": 4
 },
 "nbformat": 4,
 "nbformat_minor": 2
}
