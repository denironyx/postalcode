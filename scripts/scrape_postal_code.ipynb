{
 "cells": [
  {
   "cell_type": "code",
   "execution_count": 4,
   "metadata": {},
   "outputs": [],
   "source": [
    "import pandas as pd\n",
    "import requests\n",
    "from bs4 import BeautifulSoup"
   ]
  },
  {
   "cell_type": "code",
   "execution_count": 39,
   "metadata": {},
   "outputs": [],
   "source": [
    "import requests\n",
    "from bs4 import BeautifulSoup\n",
    "\n",
    "# URL of the website\n",
    "url = \"https://postalcode.ng/garki-area-10-postal-code-zip-code-abuja-fct/\"\n",
    "\n",
    "# Send an HTTP GET request to the website\n",
    "response = requests.get(url)\n",
    "\n",
    "print(response.status_code)\n"
   ]
  },
  {
   "cell_type": "code",
   "execution_count": null,
   "metadata": {},
   "outputs": [],
   "source": []
  },
  {
   "cell_type": "code",
   "execution_count": 11,
   "metadata": {},
   "outputs": [
    {
     "name": "stdout",
     "output_type": "stream",
     "text": [
      "None\n"
     ]
    }
   ],
   "source": [
    "# Parse the HTML content using Beautiful Soup\n",
    "soup = BeautifulSoup(response.content, \"html.parser\")\n",
    "\n",
    "# Find the element that contains the postal code\n",
    "postal_code_element = soup.find(\"span\", class_=\"wp-block-table\")\n",
    "\n",
    "print(postal_code_element)"
   ]
  },
  {
   "cell_type": "code",
   "execution_count": 40,
   "metadata": {},
   "outputs": [],
   "source": [
    "# Parse the HTML content using Beautiful Soup\n",
    "soup = BeautifulSoup(response.content, \"html.parser\")"
   ]
  },
  {
   "cell_type": "code",
   "execution_count": 45,
   "metadata": {},
   "outputs": [
    {
     "data": {
      "text/plain": [
       "522"
      ]
     },
     "execution_count": 45,
     "metadata": {},
     "output_type": "execute_result"
    }
   ],
   "source": [
    "response.status_code"
   ]
  },
  {
   "cell_type": "code",
   "execution_count": 42,
   "metadata": {},
   "outputs": [
    {
     "name": "stdout",
     "output_type": "stream",
     "text": [
      "None\n"
     ]
    }
   ],
   "source": [
    "postal_code_element = soup.find(\"tbody\")\n",
    "print(postal_code_element)"
   ]
  },
  {
   "cell_type": "code",
   "execution_count": 43,
   "metadata": {},
   "outputs": [
    {
     "data": {
      "text/plain": [
       "<tbody>\n",
       "<tr>\n",
       "<td><strong>Location</strong></td>\n",
       "<td><strong>Postcode</strong></td>\n",
       "</tr>\n",
       "<tr>\n",
       "<td>Access Road Rd.</td>\n",
       "<td>900246</td>\n",
       "</tr>\n",
       "<tr>\n",
       "<td>Akure St.</td>\n",
       "<td>900246</td>\n",
       "</tr>\n",
       "<tr>\n",
       "<td>Borno St.</td>\n",
       "<td>900246</td>\n",
       "</tr>\n",
       "<tr>\n",
       "<td>Herbert Macaulay Way</td>\n",
       "<td>900246</td>\n",
       "</tr>\n",
       "<tr>\n",
       "<td>Idah St.</td>\n",
       "<td>900246</td>\n",
       "</tr>\n",
       "<tr>\n",
       "<td>Markui St.</td>\n",
       "<td>900246</td>\n",
       "</tr>\n",
       "<tr>\n",
       "<td>Mashood Abiola Way</td>\n",
       "<td>900246</td>\n",
       "</tr>\n",
       "<tr>\n",
       "<td>Muhammadu Buhari Way</td>\n",
       "<td>900246</td>\n",
       "</tr>\n",
       "<tr>\n",
       "<td>Olusegun Obasanjo Way</td>\n",
       "<td>900246</td>\n",
       "</tr>\n",
       "</tbody>"
      ]
     },
     "execution_count": 43,
     "metadata": {},
     "output_type": "execute_result"
    }
   ],
   "source": [
    "table_body"
   ]
  },
  {
   "cell_type": "code",
   "execution_count": 48,
   "metadata": {},
   "outputs": [
    {
     "name": "stdout",
     "output_type": "stream",
     "text": [
      "                Location Postcode\n",
      "0        Access Road Rd.   900246\n",
      "1              Akure St.   900246\n",
      "2              Borno St.   900246\n",
      "3   Herbert Macaulay Way   900246\n",
      "4               Idah St.   900246\n",
      "5             Markui St.   900246\n",
      "6     Mashood Abiola Way   900246\n",
      "7   Muhammadu Buhari Way   900246\n",
      "8  Olusegun Obasanjo Way   900246\n"
     ]
    }
   ],
   "source": [
    "#postal_code_element = soup.find(\"tbody\")\n",
    "\n",
    "# Find all <tr> elements within the <tbody>\n",
    "rows = table_body.find_all(\"tr\")\n",
    "\n",
    "# Initialize empty lists for Locations and postcodes\n",
    "locations = []\n",
    "postcodes = []\n",
    "\n",
    "# Skip the header row\n",
    "for row in rows[1:]:\n",
    "    columns = row.find_all(\"td\")\n",
    "    if len(columns) >= 2:\n",
    "        locations.append(columns[0].get_text(strip=True))\n",
    "        postcodes.append(columns[1].get_text(strip=True))\n",
    "\n",
    "# Create a Dataframe\n",
    "data = {\"Location\": locations, \"Postcode\": postcodes}\n",
    "df = pd.DataFrame(data)\n",
    "\n",
    "print(df)\n",
    "df.to_csv('../data/garki-area_10.csv')"
   ]
  },
  {
   "cell_type": "code",
   "execution_count": 36,
   "metadata": {},
   "outputs": [
    {
     "name": "stdout",
     "output_type": "stream",
     "text": [
      "                Location Postcode\n",
      "0        Access Road Rd.   900246\n",
      "1              Akure St.   900246\n",
      "2              Borno St.   900246\n",
      "3   Herbert Macaulay Way   900246\n",
      "4               Idah St.   900246\n",
      "5             Markui St.   900246\n",
      "6     Mashood Abiola Way   900246\n",
      "7   Muhammadu Buhari Way   900246\n",
      "8  Olusegun Obasanjo Way   900246\n"
     ]
    }
   ],
   "source": [
    "rows = table_body.find_all(\"tr\")\n",
    "\n",
    "\n",
    "locations = []\n",
    "postcodes = []\n",
    "\n",
    "# Skip the header row\n",
    "for row in rows[1:]:\n",
    "    columns = row.find_all(\"td\")\n",
    "    if len(columns) >= 2:\n",
    "        locations.append(columns[0].get_text(strip=True))\n",
    "        postcodes.append(columns[1].get_text(strip=True))\n",
    "\n",
    "# Create a DataFrame\n",
    "data = {\"Location\": locations, \"Postcode\": postcodes}\n",
    "df = pd.DataFrame(data)\n",
    "\n",
    "print(df)"
   ]
  },
  {
   "cell_type": "code",
   "execution_count": 35,
   "metadata": {},
   "outputs": [
    {
     "data": {
      "text/plain": [
       "['900246',\n",
       " '900246',\n",
       " '900246',\n",
       " '900246',\n",
       " '900246',\n",
       " '900246',\n",
       " '900246',\n",
       " '900246',\n",
       " '900246']"
      ]
     },
     "execution_count": 35,
     "metadata": {},
     "output_type": "execute_result"
    }
   ],
   "source": [
    "postcodes"
   ]
  },
  {
   "cell_type": "code",
   "execution_count": 31,
   "metadata": {},
   "outputs": [
    {
     "ename": "TypeError",
     "evalue": "'NoneType' object is not callable",
     "output_type": "error",
     "traceback": [
      "\u001b[1;31m---------------------------------------------------------------------------\u001b[0m",
      "\u001b[1;31mTypeError\u001b[0m                                 Traceback (most recent call last)",
      "Cell \u001b[1;32mIn[31], line 1\u001b[0m\n\u001b[1;32m----> 1\u001b[0m soup \u001b[39m=\u001b[39m BeautifulSoup(table_body, \u001b[39m\"\u001b[39;49m\u001b[39mhtml.parser\u001b[39;49m\u001b[39m\"\u001b[39;49m)\n\u001b[0;32m      3\u001b[0m rows \u001b[39m=\u001b[39m soup\u001b[39m.\u001b[39mfind_all(\u001b[39m\"\u001b[39m\u001b[39mtr\u001b[39m\u001b[39m\"\u001b[39m)\n\u001b[0;32m      5\u001b[0m locations \u001b[39m=\u001b[39m []\n",
      "File \u001b[1;32mc:\\Users\\Dee\\root\\Projects\\dev\\devGeo\\venv\\Lib\\site-packages\\bs4\\__init__.py:314\u001b[0m, in \u001b[0;36mBeautifulSoup.__init__\u001b[1;34m(self, markup, features, builder, parse_only, from_encoding, exclude_encodings, element_classes, **kwargs)\u001b[0m\n\u001b[0;32m    311\u001b[0m \u001b[39mself\u001b[39m\u001b[39m.\u001b[39mparse_only \u001b[39m=\u001b[39m parse_only\n\u001b[0;32m    313\u001b[0m \u001b[39mif\u001b[39;00m \u001b[39mhasattr\u001b[39m(markup, \u001b[39m'\u001b[39m\u001b[39mread\u001b[39m\u001b[39m'\u001b[39m):        \u001b[39m# It's a file-type object.\u001b[39;00m\n\u001b[1;32m--> 314\u001b[0m     markup \u001b[39m=\u001b[39m markup\u001b[39m.\u001b[39;49mread()\n\u001b[0;32m    315\u001b[0m \u001b[39melif\u001b[39;00m \u001b[39mlen\u001b[39m(markup) \u001b[39m<\u001b[39m\u001b[39m=\u001b[39m \u001b[39m256\u001b[39m \u001b[39mand\u001b[39;00m (\n\u001b[0;32m    316\u001b[0m         (\u001b[39misinstance\u001b[39m(markup, \u001b[39mbytes\u001b[39m) \u001b[39mand\u001b[39;00m \u001b[39mnot\u001b[39;00m \u001b[39mb\u001b[39m\u001b[39m'\u001b[39m\u001b[39m<\u001b[39m\u001b[39m'\u001b[39m \u001b[39min\u001b[39;00m markup)\n\u001b[0;32m    317\u001b[0m         \u001b[39mor\u001b[39;00m (\u001b[39misinstance\u001b[39m(markup, \u001b[39mstr\u001b[39m) \u001b[39mand\u001b[39;00m \u001b[39mnot\u001b[39;00m \u001b[39m'\u001b[39m\u001b[39m<\u001b[39m\u001b[39m'\u001b[39m \u001b[39min\u001b[39;00m markup)\n\u001b[1;32m   (...)\u001b[0m\n\u001b[0;32m    321\u001b[0m     \u001b[39m# Beautiful Soup will still parse the input as markup,\u001b[39;00m\n\u001b[0;32m    322\u001b[0m     \u001b[39m# since that is sometimes the intended behavior.\u001b[39;00m\n\u001b[0;32m    323\u001b[0m     \u001b[39mif\u001b[39;00m \u001b[39mnot\u001b[39;00m \u001b[39mself\u001b[39m\u001b[39m.\u001b[39m_markup_is_url(markup):\n",
      "\u001b[1;31mTypeError\u001b[0m: 'NoneType' object is not callable"
     ]
    }
   ],
   "source": [
    "soup = BeautifulSoup(table_body, \"html.parser\")\n",
    "\n",
    "rows = table_body.find_all(\"tr\")\n",
    "\n",
    "locations = []\n",
    "postcodes = []\n",
    "\n",
    "# Skip the header row\n",
    "for row in rows[1:]:\n",
    "    columns = row.find_all(\"td\")\n",
    "    if len(columns) >= 2:\n",
    "        locations.append(columns[0].get_text(strip=True))\n",
    "        postcodes.append(columns[1].get_text(strip=True))\n",
    "\n",
    "# create a dataframe\n"
   ]
  },
  {
   "cell_type": "code",
   "execution_count": 15,
   "metadata": {},
   "outputs": [],
   "source": [
    "rows = table_body.find_all(\"tr\")\n",
    "postal_code = Non"
   ]
  },
  {
   "cell_type": "code",
   "execution_count": 18,
   "metadata": {},
   "outputs": [
    {
     "name": "stdout",
     "output_type": "stream",
     "text": [
      "Postal code not found on the page.\n"
     ]
    }
   ],
   "source": [
    "for row in rows:\n",
    "    columns = row.find_all(\"td\")\n",
    "    if len(columns) >= 2:\n",
    "        label = columns[0].get_text(strip=True)\n",
    "        if label == \"Postal Code:\":\n",
    "            postal_code = columns[1].get_text(strip=True)\n",
    "            break\n",
    "\n",
    "if postal_code:\n",
    "    print(\"Postal Code:\", postal_code)\n",
    "else:\n",
    "    print(\"Postal code not found on the page.\")"
   ]
  },
  {
   "cell_type": "code",
   "execution_count": 24,
   "metadata": {},
   "outputs": [
    {
     "name": "stdout",
     "output_type": "stream",
     "text": [
      "Empty DataFrame\n",
      "Columns: [Location, Postcode]\n",
      "Index: []\n"
     ]
    }
   ],
   "source": [
    "td_elements = table_body.find_all(\"td\")\n",
    "\n",
    "# Initialize empty lists for locations and postcodes\n",
    "locations = []\n",
    "postcodes = []\n",
    "\n",
    "# Iterate through the <td> elements\n",
    "for td in td_elements:\n",
    "    if \"<strong>\" in td:  # Skip header elements\n",
    "        continue\n",
    "    if \"<td>\" in td:\n",
    "        if td.startswith(\"<td>\"):\n",
    "            locations.append(td.lstrip(\"<td>\").rstrip(\"</td>\"))\n",
    "        else:\n",
    "            postcodes.append(td.lstrip(\"<td>\").rstrip(\"</td>\"))\n",
    "\n",
    "# Create a DataFrame\n",
    "data = {\"Location\": locations, \"Postcode\": postcodes}\n",
    "df = pd.DataFrame(data)\n",
    "\n",
    "print(df)"
   ]
  },
  {
   "cell_type": "code",
   "execution_count": 26,
   "metadata": {},
   "outputs": [
    {
     "name": "stdout",
     "output_type": "stream",
     "text": [
      "Empty DataFrame\n",
      "Columns: [Location, Postcode]\n",
      "Index: []\n"
     ]
    }
   ],
   "source": [
    "for td in td_elements:\n",
    "    if \"<strong>\" in td:\n",
    "        continue\n",
    "    if \"<td>\" in td:\n",
    "        if td.startswith(\"<td>\"):\n",
    "            locations.append(td.lstrip(\"<td>\").rstrip(\"</td>\"))\n",
    "        else:\n",
    "            postcodes.append(td.lstrip(\"<td>\").rstrip(\"</td>\"))\n",
    "\n",
    "# Create a DataFrame\n",
    "data = {\"Location\": locations, \"Postcode\": postcodes}\n",
    "df = pd.DataFrame(data)\n",
    "print(df)"
   ]
  },
  {
   "cell_type": "code",
   "execution_count": 38,
   "metadata": {},
   "outputs": [
    {
     "ename": "AttributeError",
     "evalue": "'NoneType' object has no attribute 'find_all'",
     "output_type": "error",
     "traceback": [
      "\u001b[1;31m---------------------------------------------------------------------------\u001b[0m",
      "\u001b[1;31mAttributeError\u001b[0m                            Traceback (most recent call last)",
      "Cell \u001b[1;32mIn[38], line 18\u001b[0m\n\u001b[0;32m     15\u001b[0m postal_code_element \u001b[39m=\u001b[39m soup\u001b[39m.\u001b[39mfind(\u001b[39m\"\u001b[39m\u001b[39mtbody\u001b[39m\u001b[39m\"\u001b[39m)\n\u001b[0;32m     17\u001b[0m \u001b[39m# Find all <tr> elements within the <tbody>\u001b[39;00m\n\u001b[1;32m---> 18\u001b[0m rows \u001b[39m=\u001b[39m postal_code_element\u001b[39m.\u001b[39;49mfind_all(\u001b[39m\"\u001b[39m\u001b[39mtr\u001b[39m\u001b[39m\"\u001b[39m)\n\u001b[0;32m     20\u001b[0m \u001b[39m# Initialize empty lists for Locations and postcodes\u001b[39;00m\n\u001b[0;32m     21\u001b[0m locations \u001b[39m=\u001b[39m []\n",
      "\u001b[1;31mAttributeError\u001b[0m: 'NoneType' object has no attribute 'find_all'"
     ]
    }
   ],
   "source": [
    "import pandas as pd\n",
    "import requests\n",
    "from bs4 import BeautifulSoup\n",
    "\n",
    "# URL of the website\n",
    "url = \"https://postalcode.ng/garki-area-10-postal-code-zip-code-abuja-fct/\"\n",
    "\n",
    "# Send a HTTP GET request to the website\n",
    "response = requests.get(url)\n",
    "\n",
    "# Parse the HTML content using Beautiful Soup\n",
    "soup = BeautifulSoup(response.content, \"html.parser\")\n",
    "\n",
    "# Find the element that contains the postal code usng tbody element\n",
    "postal_code_element = soup.find(\"tbody\")\n",
    "\n",
    "# Find all <tr> elements within the <tbody>\n",
    "rows = postal_code_element.find_all(\"tr\")\n",
    "\n",
    "# Initialize empty lists for Locations and postcodes\n",
    "locations = []\n",
    "postcodes = []\n",
    "\n",
    "# Skip the header row\n",
    "for row in rows[1:]:\n",
    "    columns = row.find_all(\"td\")\n",
    "    if len(columns) >= 2:\n",
    "        locations.append(columns[0].get_text(strip=True))\n",
    "        postcodes.append(columns[1].get_text(strip=True))\n",
    "\n",
    "# Create a Dataframe\n",
    "data = {\"Location\": locations, \"Postcode\": postcodes}\n",
    "df = pd.DataFrame(data)\n",
    "\n",
    "print(df)"
   ]
  }
 ],
 "metadata": {
  "kernelspec": {
   "display_name": "Python 3",
   "language": "python",
   "name": "python3"
  },
  "language_info": {
   "codemirror_mode": {
    "name": "ipython",
    "version": 3
   },
   "file_extension": ".py",
   "mimetype": "text/x-python",
   "name": "python",
   "nbconvert_exporter": "python",
   "pygments_lexer": "ipython3",
   "version": "3.11.4"
  },
  "orig_nbformat": 4
 },
 "nbformat": 4,
 "nbformat_minor": 2
}
