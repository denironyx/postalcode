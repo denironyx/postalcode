{
 "cells": [
  {
   "cell_type": "code",
   "execution_count": 1,
   "metadata": {},
   "outputs": [],
   "source": [
    "from fastapi import FastAPI, HTTPException\n",
    "from pydantic import BaseModel\n",
    "import pandas as pd\n"
   ]
  },
  {
   "cell_type": "code",
   "execution_count": 2,
   "metadata": {},
   "outputs": [],
   "source": [
    "# Load the data into a pandas DataFrame\n",
    "data = pd.read_csv('../data/final_df.csv')\n",
    "\n",
    "# Define Pydantic model\n",
    "class Location(BaseModel):\n",
    "    District: str\n",
    "    Area: str\n",
    "    Street: str\n",
    "    Postal_Code: float\n",
    "    Address: str\n",
    "    Latitude: float\n",
    "    Longitude: float\n",
    "\n",
    "# Initialize FastAPI app\n",
    "app = FastAPI()\n",
    "\n",
    "# Endpoint to get all locations\n",
    "@app.get(\"/locations/\")\n",
    "async def get_locations():\n",
    "    return data.to_dict(orient=\"records\")\n",
    "\n",
    "# Endpoint to get a single location by index\n",
    "@app.get(\"/locations/{location_id}\")\n",
    "async def get_location(location_id: int):\n",
    "    try:\n",
    "        return data.loc[location_id].to_dict()\n",
    "    except KeyError:\n",
    "        raise HTTPException(status_code=404, detail=\"Location not found\")\n",
    "\n",
    "# Endpoint to update a location\n",
    "@app.put(\"/locations/{location_id}\")\n",
    "async def update_location(location_id: int, location: Location):\n",
    "    try:\n",
    "        data.loc[location_id] = location.dict()\n",
    "        return {\"message\": \"Location updated successfully\"}\n",
    "    except KeyError:\n",
    "        raise HTTPException(status_code=404, detail=\"Location not found\")\n",
    "\n",
    "# Endpoint to delete a location\n",
    "@app.delete(\"/locations/{location_id}\")\n",
    "async def delete_location(location_id: int):\n",
    "    try:\n",
    "        data.drop(location_id, inplace=True)\n",
    "        return {\"message\": \"Location deleted successfully\"}\n",
    "    except KeyError:\n",
    "        raise HTTPException(status_code=404, detail=\"Location not found\")\n",
    "\n",
    "# Endpoint to create a new location\n",
    "@app.post(\"/locations/\")\n",
    "async def create_location(location: Location):\n",
    "    data = data.append(location.dict(), ignore_index=True)\n",
    "    return {\"message\": \"Location created successfully\"}"
   ]
  }
 ],
 "metadata": {
  "kernelspec": {
   "display_name": "venv",
   "language": "python",
   "name": "python3"
  },
  "language_info": {
   "codemirror_mode": {
    "name": "ipython",
    "version": 3
   },
   "file_extension": ".py",
   "mimetype": "text/x-python",
   "name": "python",
   "nbconvert_exporter": "python",
   "pygments_lexer": "ipython3",
   "version": "3.11.4"
  }
 },
 "nbformat": 4,
 "nbformat_minor": 2
}
