{
 "cells": [
  {
   "cell_type": "code",
   "execution_count": 15,
   "metadata": {},
   "outputs": [],
   "source": [
    "import pandas as pd\n",
    "import requests\n",
    "from bs4 import BeautifulSoup\n",
    "\n",
    "# add url \n",
    "url = \"https://www.zipcode.com.ng/2021/08/abuja-town-postal-code.html#garkia1\""
   ]
  },
  {
   "cell_type": "code",
   "execution_count": 158,
   "metadata": {},
   "outputs": [],
   "source": [
    "url_codes = ['abuja-town', 'kwali-lga', 'abaji-lga']"
   ]
  },
  {
   "cell_type": "code",
   "execution_count": null,
   "metadata": {},
   "outputs": [],
   "source": [
    "url_codes = ['abuja-town', 'kwali-lga', 'abaji-lga', 'kuje-lga', 'bwari-lga']\n",
    "\n",
    "url = f\"https://www.zipcode.com.ng/2021/08/{code}-code.html\""
   ]
  },
  {
   "cell_type": "code",
   "execution_count": 160,
   "metadata": {},
   "outputs": [],
   "source": [
    "import pandas as pd\n",
    "import requests\n",
    "from bs4 import BeautifulSoup"
   ]
  },
  {
   "cell_type": "code",
   "execution_count": 250,
   "metadata": {},
   "outputs": [
    {
     "name": "stdout",
     "output_type": "stream",
     "text": [
      "200\n",
      "#> webpage don't contain h3 tag\n",
      "200\n",
      "#> webpage don't contain h3 tag\n",
      "200\n",
      "#> webpage don't contain h3 tag\n",
      "200\n",
      "#> webpage is using table blocks\n",
      "200\n",
      "#> webpage is using table blocks\n",
      "200\n",
      "#> webpage don't contain h3 tag\n"
     ]
    }
   ],
   "source": [
    "# url = \"https://www.zipcode.com.ng/2019/10/akure-south-lga-postal-code.html\"\n",
    "\n",
    "#url = \"https://www.zipcode.com.ng/2021/08/abuja-town-postal-code.html#garkia1\"\n",
    "\n",
    "#url = \"https://www.zipcode.com.ng/2021/08/kwali-lga-postal-code.html\"\n",
    "\n",
    "#url = \"https://www.zipcode.com.ng/2021/08/abaji-lga-postal-code.html#abaji\"\n",
    "# Send an HTTP GET request to the website\n",
    "\n",
    "url_codes = ['abuja-town', 'kwali-lga', 'abaji-lga', 'bwari-lga', 'gwagwalada-lga', 'kuje-lga']\n",
    "\n",
    "postal_codes_data = {}\n",
    "\n",
    "for code in url_codes:\n",
    "    \n",
    "    url = f\"https://www.zipcode.com.ng/2021/08/{code}-postal-code.html\"\n",
    "    \n",
    "    response = requests.get(url)\n",
    "\n",
    "    print(response.status_code)\n",
    "\n",
    "    # Parse the HTML content using Beautiful Soup\n",
    "    soup = BeautifulSoup(response.content, \"html.parser\")\n",
    "\n",
    "    # Find the code-list div which contians the postal code data\n",
    "    code_list_div = soup.find('div', class_ = 'table-responsive')\n",
    "    \n",
    "    if code_list_div is None:\n",
    "        \n",
    "        code_list_div = soup.find('div', class_ = 'code-list')\n",
    "        \n",
    "        items = code_list_div.find_all(['h3', 'li'])\n",
    "\n",
    "        items[0].name\n",
    "\n",
    "        if items[0].name == 'h3':\n",
    "            print(\"#> webpage contains h3 tag\")\n",
    "            for item in items:\n",
    "                if item.name == 'h3':\n",
    "                    area = item.text\n",
    "                    postal_codes_data[area] = []\n",
    "                elif item.name == 'li':\n",
    "                    street_name = item.find('div', class_ = 'listl').text\n",
    "                    postal_code = item.find('div', class_ = 'listr').text\n",
    "                    # append the data\n",
    "                    postal_codes_data[area].append({'Street': street_name, \"Postal Code\": postal_code})\n",
    "        else:\n",
    "            print(\"#> webpage don't contain h3 tag\")\n",
    "            for item in items:\n",
    "                street_name = item.find('div', class_='listl').text.strip()\n",
    "                postal_code = item.find('div', class_='listr').text.strip()\n",
    "                area_item = item.find_previous('div', class_='clist')\n",
    "                if area_item:\n",
    "                    area = area_item.text.strip()\n",
    "                    # add data to the area data dictionary\n",
    "                    if area not in postal_codes_data:\n",
    "                        postal_codes_data[area] = []\n",
    "                    postal_codes_data[area].append({'Street': street_name, 'Postal Code': postal_code})\n",
    "    else:\n",
    "        print(\"#> webpage is using table blocks\")\n",
    "        # Find the code-list div which contians the postal code data\n",
    "        items = code_list_div.find_all(['tr'])\n",
    "\n",
    "        for item in items:\n",
    "            td_tags = item.find_all('td')[:3]\n",
    "            if len(td_tags) == 3:\n",
    "                street_name = td_tags[0].text.strip()\n",
    "                postal_code = td_tags[1].text.strip()\n",
    "                area = td_tags[2].text.strip()\n",
    "                if area in postal_codes_data:\n",
    "                    postal_codes_data[area].append({'Street': street_name, 'Postal Code': postal_code})\n",
    "                else:\n",
    "                    postal_codes_data[area] = [{'Street': street_name, 'Postal Code': postal_code}]"
   ]
  },
  {
   "cell_type": "code",
   "execution_count": 251,
   "metadata": {},
   "outputs": [
    {
     "data": {
      "text/plain": [
       "dict_keys(['Asokoro', 'Central Business District', 'Garki Area 1', 'Garki Area 2', 'Garki Area 3', 'Garki Area 7', 'Garki Area 8', 'Garki Area 10', 'Garki Area 11', 'Maitama', 'Three Arms Zone', 'Wuse II', 'Wuse Zone 1', 'Wuse Zone 2', 'Wuse Zone 3', 'Wuse Zone 4', 'Wuse Zone 5', 'Wuse Zone 6', 'Wuse Zone 7', 'Ashara', 'Dafa', 'Gumbo', 'Kilankwa', 'Kwali', 'Pai', 'Yangoji', 'Yebu', 'Wako', 'Abaji', 'Yaba', 'Bwari', 'Gwagwalada', 'Kuje', 'Rubbochi'])"
      ]
     },
     "execution_count": 251,
     "metadata": {},
     "output_type": "execute_result"
    }
   ],
   "source": [
    "postal_codes_data.keys()"
   ]
  },
  {
   "cell_type": "code",
   "execution_count": 252,
   "metadata": {},
   "outputs": [],
   "source": [
    "data = []"
   ]
  },
  {
   "cell_type": "code",
   "execution_count": 253,
   "metadata": {},
   "outputs": [],
   "source": [
    "for area, streets, in postal_codes_data.items():\n",
    "    for street_info in streets:\n",
    "        data.append({'Area': area, 'Street': street_info['Street'], 'Postal Code': street_info['Postal Code']})\n"
   ]
  },
  {
   "cell_type": "code",
   "execution_count": 254,
   "metadata": {},
   "outputs": [],
   "source": [
    "df = pd.DataFrame(data)"
   ]
  },
  {
   "cell_type": "code",
   "execution_count": 255,
   "metadata": {},
   "outputs": [],
   "source": [
    "df.replace(to_replace='St.', value='Street', regex=True, inplace=True)\n",
    "df.replace(to_replace='Cr.', value='Cresent', regex=True, inplace=True)"
   ]
  },
  {
   "cell_type": "code",
   "execution_count": 256,
   "metadata": {},
   "outputs": [
    {
     "data": {
      "text/plain": [
       "839"
      ]
     },
     "execution_count": 256,
     "metadata": {},
     "output_type": "execute_result"
    }
   ],
   "source": [
    "len(df)"
   ]
  },
  {
   "cell_type": "code",
   "execution_count": 257,
   "metadata": {},
   "outputs": [
    {
     "data": {
      "text/html": [
       "<div>\n",
       "<style scoped>\n",
       "    .dataframe tbody tr th:only-of-type {\n",
       "        vertical-align: middle;\n",
       "    }\n",
       "\n",
       "    .dataframe tbody tr th {\n",
       "        vertical-align: top;\n",
       "    }\n",
       "\n",
       "    .dataframe thead th {\n",
       "        text-align: right;\n",
       "    }\n",
       "</style>\n",
       "<table border=\"1\" class=\"dataframe\">\n",
       "  <thead>\n",
       "    <tr style=\"text-align: right;\">\n",
       "      <th></th>\n",
       "      <th>Area</th>\n",
       "      <th>Street</th>\n",
       "      <th>Postal Code</th>\n",
       "    </tr>\n",
       "  </thead>\n",
       "  <tbody>\n",
       "    <tr>\n",
       "      <th>0</th>\n",
       "      <td>Asokoro</td>\n",
       "      <td>Ajayi Cresentwder Street</td>\n",
       "      <td>900231</td>\n",
       "    </tr>\n",
       "    <tr>\n",
       "      <th>1</th>\n",
       "      <td>Asokoro</td>\n",
       "      <td>Akenzua Street</td>\n",
       "      <td>900231</td>\n",
       "    </tr>\n",
       "    <tr>\n",
       "      <th>2</th>\n",
       "      <td>Asokoro</td>\n",
       "      <td>Ali Akihi Cresent</td>\n",
       "      <td>900231</td>\n",
       "    </tr>\n",
       "    <tr>\n",
       "      <th>3</th>\n",
       "      <td>Asokoro</td>\n",
       "      <td>Anwar Sadat Street</td>\n",
       "      <td>900231</td>\n",
       "    </tr>\n",
       "    <tr>\n",
       "      <th>4</th>\n",
       "      <td>Asokoro</td>\n",
       "      <td>Dennis Osadebe Street</td>\n",
       "      <td>900231</td>\n",
       "    </tr>\n",
       "    <tr>\n",
       "      <th>...</th>\n",
       "      <td>...</td>\n",
       "      <td>...</td>\n",
       "      <td>...</td>\n",
       "    </tr>\n",
       "    <tr>\n",
       "      <th>834</th>\n",
       "      <td>Rubbochi</td>\n",
       "      <td>Yaba</td>\n",
       "      <td>903102</td>\n",
       "    </tr>\n",
       "    <tr>\n",
       "      <th>835</th>\n",
       "      <td>Rubbochi</td>\n",
       "      <td>Yewusa</td>\n",
       "      <td>903102</td>\n",
       "    </tr>\n",
       "    <tr>\n",
       "      <th>836</th>\n",
       "      <td>Rubbochi</td>\n",
       "      <td>Zagabutu</td>\n",
       "      <td>903102</td>\n",
       "    </tr>\n",
       "    <tr>\n",
       "      <th>837</th>\n",
       "      <td>Rubbochi</td>\n",
       "      <td>Zoge</td>\n",
       "      <td>903102</td>\n",
       "    </tr>\n",
       "    <tr>\n",
       "      <th>838</th>\n",
       "      <td>Rubbochi</td>\n",
       "      <td>Zokutu</td>\n",
       "      <td>903102</td>\n",
       "    </tr>\n",
       "  </tbody>\n",
       "</table>\n",
       "<p>839 rows × 3 columns</p>\n",
       "</div>"
      ],
      "text/plain": [
       "         Area                    Street Postal Code\n",
       "0     Asokoro  Ajayi Cresentwder Street      900231\n",
       "1     Asokoro            Akenzua Street      900231\n",
       "2     Asokoro         Ali Akihi Cresent      900231\n",
       "3     Asokoro        Anwar Sadat Street      900231\n",
       "4     Asokoro     Dennis Osadebe Street      900231\n",
       "..        ...                       ...         ...\n",
       "834  Rubbochi                      Yaba      903102\n",
       "835  Rubbochi                    Yewusa      903102\n",
       "836  Rubbochi                  Zagabutu      903102\n",
       "837  Rubbochi                      Zoge      903102\n",
       "838  Rubbochi                    Zokutu      903102\n",
       "\n",
       "[839 rows x 3 columns]"
      ]
     },
     "execution_count": 257,
     "metadata": {},
     "output_type": "execute_result"
    }
   ],
   "source": [
    "df"
   ]
  },
  {
   "cell_type": "code",
   "execution_count": 178,
   "metadata": {},
   "outputs": [
    {
     "name": "stdout",
     "output_type": "stream",
     "text": [
      "200\n"
     ]
    }
   ],
   "source": [
    "url = \"https://www.zipcode.com.ng/2021/08/gwagwalada-lga-postal-code.html\"\n",
    "\n",
    "response = requests.get(url)\n",
    "\n",
    "print(response.status_code)\n",
    "\n",
    "# Parse the HTML content using Beautiful Soup\n",
    "soup = BeautifulSoup(response.content, \"html.parser\")\n",
    "\n",
    "# Find the code-list div which contians the postal code data\n",
    "code_list_div = soup.find('div', class_ = 'table-responsive')\n",
    "\n",
    "#items = code_list_div.find_all(['h3', 'li'])\n",
    "\n",
    "#items[0].name"
   ]
  },
  {
   "cell_type": "code",
   "execution_count": 179,
   "metadata": {},
   "outputs": [
    {
     "data": {
      "text/plain": [
       "<div class=\"table-responsive\"><table><caption><h2>Postal Code for Gwagwalada, FCT Abuja</h2></caption><thead><tr><th>Area</th><th>Postcode</th><th>LGA</th><th>State</th></tr></thead><tbody><tr><td>Agota</td><td>902101</td><td>Gwagwalada</td><td>FCT Abuja</td></tr><tr><td>Akwayi</td><td>902101</td><td>Gwagwalada</td><td>FCT Abuja</td></tr><tr><td>Akyakyata</td><td>902101</td><td>Gwagwalada</td><td>FCT Abuja</td></tr><tr><td>Alu wamo</td><td>902101</td><td>Gwagwalada</td><td>FCT Abuja</td></tr><tr><td>Anguwar Hausawa</td><td>902101</td><td>Gwagwalada</td><td>FCT Abuja</td></tr><tr><td>Anguwar Sarki</td><td>902101</td><td>Gwagwalada</td><td>FCT Abuja</td></tr><tr><td>Atopi</td><td>902101</td><td>Gwagwalada</td><td>FCT Abuja</td></tr><tr><td>Auguwar-Madaki</td><td>902101</td><td>Gwagwalada</td><td>FCT Abuja</td></tr><tr><td>Bargada Bassa</td><td>902101</td><td>Gwagwalada</td><td>FCT Abuja</td></tr><tr><td>Basan Zuba</td><td>902101</td><td>Gwagwalada</td><td>FCT Abuja</td></tr><tr><td>Bassa</td><td>902101</td><td>Gwagwalada</td><td>FCT Abuja</td></tr><tr><td>Biyu</td><td>902101</td><td>Gwagwalada</td><td>FCT Abuja</td></tr><tr><td>Boka</td><td>902101</td><td>Gwagwalada</td><td>FCT Abuja</td></tr><tr><td>Chaboda</td><td>902101</td><td>Gwagwalada</td><td>FCT Abuja</td></tr><tr><td>Chitumu</td><td>902101</td><td>Gwagwalada</td><td>FCT Abuja</td></tr><tr><td>Chzako</td><td>902101</td><td>Gwagwalada</td><td>FCT Abuja</td></tr><tr><td>Dabagayi</td><td>902101</td><td>Gwagwalada</td><td>FCT Abuja</td></tr><tr><td>Dada</td><td>902101</td><td>Gwagwalada</td><td>FCT Abuja</td></tr><tr><td>Dada Gongo</td><td>902101</td><td>Gwagwalada</td><td>FCT Abuja</td></tr><tr><td>Dadabiri</td><td>902101</td><td>Gwagwalada</td><td>FCT Abuja</td></tr><tr><td>Damin Kara</td><td>902101</td><td>Gwagwalada</td><td>FCT Abuja</td></tr><tr><td>Dawaki</td><td>902101</td><td>Gwagwalada</td><td>FCT Abuja</td></tr><tr><td>Didan Tujura</td><td>902101</td><td>Gwagwalada</td><td>FCT Abuja</td></tr><tr><td>Diko</td><td>902101</td><td>Gwagwalada</td><td>FCT Abuja</td></tr><tr><td>Dikwa Gwari</td><td>902101</td><td>Gwagwalada</td><td>FCT Abuja</td></tr><tr><td>Dikwa Kotwa</td><td>902101</td><td>Gwagwalada</td><td>FCT Abuja</td></tr><tr><td>Dobi</td><td>902101</td><td>Gwagwalada</td><td>FCT Abuja</td></tr><tr><td>Doni</td><td>902101</td><td>Gwagwalada</td><td>FCT Abuja</td></tr><tr><td>Doruwa</td><td>902101</td><td>Gwagwalada</td><td>FCT Abuja</td></tr><tr><td>Eabodo</td><td>902101</td><td>Gwagwalada</td><td>FCT Abuja</td></tr><tr><td>Garin Godoso</td><td>902101</td><td>Gwagwalada</td><td>FCT Abuja</td></tr><tr><td>Gbadolo</td><td>902101</td><td>Gwagwalada</td><td>FCT Abuja</td></tr><tr><td>Gerin Angulu</td><td>902101</td><td>Gwagwalada</td><td>FCT Abuja</td></tr><tr><td>Gidan Ango</td><td>902101</td><td>Gwagwalada</td><td>FCT Abuja</td></tr><tr><td>Gidan Bala</td><td>902101</td><td>Gwagwalada</td><td>FCT Abuja</td></tr><tr><td>Gidan Dandu</td><td>902101</td><td>Gwagwalada</td><td>FCT Abuja</td></tr><tr><td>Gidan Gade</td><td>902101</td><td>Gwagwalada</td><td>FCT Abuja</td></tr><tr><td>Gidan Golo</td><td>902101</td><td>Gwagwalada</td><td>FCT Abuja</td></tr><tr><td>Gidan Yaro</td><td>902101</td><td>Gwagwalada</td><td>FCT Abuja</td></tr><tr><td>Goi</td><td>902101</td><td>Gwagwalada</td><td>FCT Abuja</td></tr><tr><td>Goi Sabo</td><td>902101</td><td>Gwagwalada</td><td>FCT Abuja</td></tr><tr><td>Gongo</td><td>902101</td><td>Gwagwalada</td><td>FCT Abuja</td></tr><tr><td>Gulupe</td><td>902101</td><td>Gwagwalada</td><td>FCT Abuja</td></tr><tr><td>Gurebare</td><td>902101</td><td>Gwagwalada</td><td>FCT Abuja</td></tr><tr><td>Gurfa Gongo</td><td>902101</td><td>Gwagwalada</td><td>FCT Abuja</td></tr><tr><td>Gurfata</td><td>902101</td><td>Gwagwalada</td><td>FCT Abuja</td></tr><tr><td>Gurfata Sabo</td><td>902101</td><td>Gwagwalada</td><td>FCT Abuja</td></tr><tr><td>Gwako</td><td>902101</td><td>Gwagwalada</td><td>FCT Abuja</td></tr><tr><td>Gwale</td><td>902101</td><td>Gwagwalada</td><td>FCT Abuja</td></tr><tr><td>Gwari</td><td>902101</td><td>Gwagwalada</td><td>FCT Abuja</td></tr><tr><td>Gwaywalada</td><td>902101</td><td>Gwagwalada</td><td>FCT Abuja</td></tr><tr><td>Gyabiri</td><td>902101</td><td>Gwagwalada</td><td>FCT Abuja</td></tr><tr><td>Hanagada Abdu</td><td>902101</td><td>Gwagwalada</td><td>FCT Abuja</td></tr><tr><td>Hanagada Bassa</td><td>902101</td><td>Gwagwalada</td><td>FCT Abuja</td></tr><tr><td>Ibbo</td><td>902101</td><td>Gwagwalada</td><td>FCT Abuja</td></tr><tr><td>Ibwa</td><td>902101</td><td>Gwagwalada</td><td>FCT Abuja</td></tr><tr><td>Ibwa Sarki</td><td>902101</td><td>Gwagwalada</td><td>FCT Abuja</td></tr><tr><td>Ikwa</td><td>902101</td><td>Gwagwalada</td><td>FCT Abuja</td></tr><tr><td>Isom Bassa</td><td>902101</td><td>Gwagwalada</td><td>FCT Abuja</td></tr><tr><td>Isom Fulani</td><td>902101</td><td>Gwagwalada</td><td>FCT Abuja</td></tr><tr><td>Jalita Gongo</td><td>902101</td><td>Gwagwalada</td><td>FCT Abuja</td></tr><tr><td>Jigodo I</td><td>902101</td><td>Gwagwalada</td><td>FCT Abuja</td></tr><tr><td>Jiwape</td><td>902101</td><td>Gwagwalada</td><td>FCT Abuja</td></tr><tr><td>Kaburufi</td><td>902101</td><td>Gwagwalada</td><td>FCT Abuja</td></tr><tr><td>Kace Bassa</td><td>902101</td><td>Gwagwalada</td><td>FCT Abuja</td></tr><tr><td>Kace Sabo</td><td>902101</td><td>Gwagwalada</td><td>FCT Abuja</td></tr><tr><td>Kace Sarki</td><td>902101</td><td>Gwagwalada</td><td>FCT Abuja</td></tr><tr><td>Kaida Bassa</td><td>902101</td><td>Gwagwalada</td><td>FCT Abuja</td></tr><tr><td>Kaida Gwari</td><td>902101</td><td>Gwagwalada</td><td>FCT Abuja</td></tr><tr><td>Kaida Sabo</td><td>902101</td><td>Gwagwalada</td><td>FCT Abuja</td></tr><tr><td>Kalangu</td><td>902101</td><td>Gwagwalada</td><td>FCT Abuja</td></tr><tr><td>Kasanki</td><td>902101</td><td>Gwagwalada</td><td>FCT Abuja</td></tr><tr><td>Kpatawuro</td><td>902101</td><td>Gwagwalada</td><td>FCT Abuja</td></tr><tr><td>Kutabwche</td><td>902101</td><td>Gwagwalada</td><td>FCT Abuja</td></tr><tr><td>Kutunku</td><td>902101</td><td>Gwagwalada</td><td>FCT Abuja</td></tr><tr><td>Kuturpe</td><td>902101</td><td>Gwagwalada</td><td>FCT Abuja</td></tr><tr><td>Kwalikuzi</td><td>902101</td><td>Gwagwalada</td><td>FCT Abuja</td></tr><tr><td>Lafiya</td><td>902101</td><td>Gwagwalada</td><td>FCT Abuja</td></tr><tr><td>Ledi</td><td>902101</td><td>Gwagwalada</td><td>FCT Abuja</td></tr><tr><td>Ledi Sabo</td><td>902101</td><td>Gwagwalada</td><td>FCT Abuja</td></tr><tr><td>Madaki Abuche</td><td>902101</td><td>Gwagwalada</td><td>FCT Abuja</td></tr><tr><td>Maikaraya</td><td>902101</td><td>Gwagwalada</td><td>FCT Abuja</td></tr><tr><td>Maje Bassa</td><td>902101</td><td>Gwagwalada</td><td>FCT Abuja</td></tr><tr><td>Maje Tsoho</td><td>902101</td><td>Gwagwalada</td><td>FCT Abuja</td></tr><tr><td>Makama</td><td>902101</td><td>Gwagwalada</td><td>FCT Abuja</td></tr><tr><td>Momo Sabo</td><td>902101</td><td>Gwagwalada</td><td>FCT Abuja</td></tr><tr><td>Pabeyi</td><td>902101</td><td>Gwagwalada</td><td>FCT Abuja</td></tr><tr><td>Pagada</td><td>902101</td><td>Gwagwalada</td><td>FCT Abuja</td></tr><tr><td>Pagena I</td><td>902101</td><td>Gwagwalada</td><td>FCT Abuja</td></tr><tr><td>Paiken Korce</td><td>902101</td><td>Gwagwalada</td><td>FCT Abuja</td></tr><tr><td>Paiko</td><td>902101</td><td>Gwagwalada</td><td>FCT Abuja</td></tr><tr><td>Pajana II</td><td>902101</td><td>Gwagwalada</td><td>FCT Abuja</td></tr><tr><td>Pako</td><td>902101</td><td>Gwagwalada</td><td>FCT Abuja</td></tr><tr><td>Paso Gwari</td><td>902101</td><td>Gwagwalada</td><td>FCT Abuja</td></tr><tr><td>Pass Kutawa</td><td>902101</td><td>Gwagwalada</td><td>FCT Abuja</td></tr><tr><td>Patte</td><td>902101</td><td>Gwagwalada</td><td>FCT Abuja</td></tr><tr><td>Rafin Zurfi</td><td>902101</td><td>Gwagwalada</td><td>FCT Abuja</td></tr><tr><td>Rain Zurfi</td><td>902101</td><td>Gwagwalada</td><td>FCT Abuja</td></tr><tr><td>S/Ganuwa</td><td>902101</td><td>Gwagwalada</td><td>FCT Abuja</td></tr><tr><td>Sabo</td><td>902101</td><td>Gwagwalada</td><td>FCT Abuja</td></tr><tr><td>Saboda</td><td>902101</td><td>Gwagwalada</td><td>FCT Abuja</td></tr><tr><td>Sabon Gari</td><td>902101</td><td>Gwagwalada</td><td>FCT Abuja</td></tr><tr><td>Shaga I</td><td>902101</td><td>Gwagwalada</td><td>FCT Abuja</td></tr><tr><td>Shaga II</td><td>902101</td><td>Gwagwalada</td><td>FCT Abuja</td></tr><tr><td>Shajantara</td><td>902101</td><td>Gwagwalada</td><td>FCT Abuja</td></tr><tr><td>Shanagu</td><td>902101</td><td>Gwagwalada</td><td>FCT Abuja</td></tr><tr><td>Shara Bassa</td><td>902101</td><td>Gwagwalada</td><td>FCT Abuja</td></tr><tr><td>Shibo</td><td>902101</td><td>Gwagwalada</td><td>FCT Abuja</td></tr><tr><td>Shibo Bassa</td><td>902101</td><td>Gwagwalada</td><td>FCT Abuja</td></tr><tr><td>Shida</td><td>902101</td><td>Gwagwalada</td><td>FCT Abuja</td></tr><tr><td>Shidhida</td><td>902101</td><td>Gwagwalada</td><td>FCT Abuja</td></tr><tr><td>Shinge</td><td>902101</td><td>Gwagwalada</td><td>FCT Abuja</td></tr><tr><td>Soko</td><td>902101</td><td>Gwagwalada</td><td>FCT Abuja</td></tr><tr><td>Tsagban Siji</td><td>902101</td><td>Gwagwalada</td><td>FCT Abuja</td></tr><tr><td>Tsaunia Kura</td><td>902101</td><td>Gwagwalada</td><td>FCT Abuja</td></tr><tr><td>Tsudna</td><td>902101</td><td>Gwagwalada</td><td>FCT Abuja</td></tr><tr><td>Tundun Wada</td><td>902101</td><td>Gwagwalada</td><td>FCT Abuja</td></tr><tr><td>Tung Tsauni</td><td>902101</td><td>Gwagwalada</td><td>FCT Abuja</td></tr><tr><td>Tunga Makeri</td><td>902101</td><td>Gwagwalada</td><td>FCT Abuja</td></tr><tr><td>Tungan Adamu</td><td>902101</td><td>Gwagwalada</td><td>FCT Abuja</td></tr><tr><td>Tungan Auta</td><td>902101</td><td>Gwagwalada</td><td>FCT Abuja</td></tr><tr><td>Tungan D. Kolo</td><td>902101</td><td>Gwagwalada</td><td>FCT Abuja</td></tr><tr><td>Tungan Giwa</td><td>902101</td><td>Gwagwalada</td><td>FCT Abuja</td></tr><tr><td>Tungan Jika</td><td>902101</td><td>Gwagwalada</td><td>FCT Abuja</td></tr><tr><td>Tungan Kakaki</td><td>902101</td><td>Gwagwalada</td><td>FCT Abuja</td></tr><tr><td>Tungan Ladan</td><td>902101</td><td>Gwagwalada</td><td>FCT Abuja</td></tr><tr><td>Tungan M. Hassan</td><td>902101</td><td>Gwagwalada</td><td>FCT Abuja</td></tr><tr><td>Tungan Maikasuwa</td><td>902101</td><td>Gwagwalada</td><td>FCT Abuja</td></tr><tr><td>Tungan Pada</td><td>902101</td><td>Gwagwalada</td><td>FCT Abuja</td></tr><tr><td>Tungan S. Pada</td><td>902101</td><td>Gwagwalada</td><td>FCT Abuja</td></tr><tr><td>Tungan Salihu</td><td>902101</td><td>Gwagwalada</td><td>FCT Abuja</td></tr><tr><td>Tungan Tsauni</td><td>902101</td><td>Gwagwalada</td><td>FCT Abuja</td></tr><tr><td>Ung Gade</td><td>902101</td><td>Gwagwalada</td><td>FCT Abuja</td></tr><tr><td>Ung. Bassa</td><td>902101</td><td>Gwagwalada</td><td>FCT Abuja</td></tr><tr><td>Ung. Gwari</td><td>902101</td><td>Gwagwalada</td><td>FCT Abuja</td></tr><tr><td>Wagu Wase-Gyan</td><td>902101</td><td>Gwagwalada</td><td>FCT Abuja</td></tr><tr><td>Wuma</td><td>902101</td><td>Gwagwalada</td><td>FCT Abuja</td></tr><tr><td>Wumi</td><td>902101</td><td>Gwagwalada</td><td>FCT Abuja</td></tr><tr><td>Wurumbi</td><td>902101</td><td>Gwagwalada</td><td>FCT Abuja</td></tr><tr><td>Wuye-Wuye</td><td>902101</td><td>Gwagwalada</td><td>FCT Abuja</td></tr><tr><td>Yaluan Ibwa</td><td>902101</td><td>Gwagwalada</td><td>FCT Abuja</td></tr><tr><td>Yemipe</td><td>902101</td><td>Gwagwalada</td><td>FCT Abuja</td></tr><tr><td>Zuba</td><td>902101</td><td>Gwagwalada</td><td>FCT Abuja</td></tr></tbody></table></div>"
      ]
     },
     "execution_count": 179,
     "metadata": {},
     "output_type": "execute_result"
    }
   ],
   "source": [
    "code_list_div"
   ]
  },
  {
   "cell_type": "code",
   "execution_count": 180,
   "metadata": {},
   "outputs": [],
   "source": [
    "# Find the code-list div which contians the postal code data\n",
    "code_list_div = soup.find('div', class_ = 'table-responsive')\n",
    "\n",
    "items = code_list_div.find_all(['tr'])\n",
    "\n",
    "for item in items:\n",
    "    td_tags = item.find_all('td')[:3]\n",
    "    if len(td_tags) == 3:\n",
    "        street_name = td_tags[0].text.strip()\n",
    "        postal_code = td_tags[1].text.strip()\n",
    "        area = td_tags[2].text.strip()\n",
    "        if area in postal_codes_data:\n",
    "            postal_codes_data[area].append({'Street': street_name, 'Postal Code': postal_code})\n",
    "        else:\n",
    "            postal_codes_data[area] = [{'Street': street_name, 'Postal Code': postal_code}]"
   ]
  },
  {
   "cell_type": "code",
   "execution_count": 234,
   "metadata": {},
   "outputs": [],
   "source": [
    "clean_data = {}\n",
    "for item in items:\n",
    "    td_tags = item.find_all('td')[:3]\n",
    "    if len(td_tags) == 3:\n",
    "        street_name = td_tags[0].text.strip()\n",
    "        postal_code = td_tags[1].text.strip()\n",
    "        area = td_tags[2].text.strip()\n",
    "        if area in clean_data:\n",
    "            postal_codes_data[area].append({'Street': street_name, 'Postal Code': postal_code})\n",
    "        else:\n",
    "            postal_codes_data[area] = [{'Street': street_name, 'Postal Code': postal_code}]\n",
    "        "
   ]
  },
  {
   "cell_type": "code",
   "execution_count": 237,
   "metadata": {},
   "outputs": [
    {
     "data": {
      "text/plain": [
       "{'Gwagwalada': [{'Street': 'Agota', 'Postal Code': '902101'},\n",
       "  {'Street': 'Akwayi', 'Postal Code': '902101'},\n",
       "  {'Street': 'Akyakyata', 'Postal Code': '902101'},\n",
       "  {'Street': 'Alu wamo', 'Postal Code': '902101'},\n",
       "  {'Street': 'Anguwar Hausawa', 'Postal Code': '902101'},\n",
       "  {'Street': 'Anguwar Sarki', 'Postal Code': '902101'},\n",
       "  {'Street': 'Atopi', 'Postal Code': '902101'},\n",
       "  {'Street': 'Auguwar-Madaki', 'Postal Code': '902101'},\n",
       "  {'Street': 'Bargada Bassa', 'Postal Code': '902101'},\n",
       "  {'Street': 'Basan Zuba', 'Postal Code': '902101'},\n",
       "  {'Street': 'Bassa', 'Postal Code': '902101'},\n",
       "  {'Street': 'Biyu', 'Postal Code': '902101'},\n",
       "  {'Street': 'Boka', 'Postal Code': '902101'},\n",
       "  {'Street': 'Chaboda', 'Postal Code': '902101'},\n",
       "  {'Street': 'Chitumu', 'Postal Code': '902101'},\n",
       "  {'Street': 'Chzako', 'Postal Code': '902101'},\n",
       "  {'Street': 'Dabagayi', 'Postal Code': '902101'},\n",
       "  {'Street': 'Dada', 'Postal Code': '902101'},\n",
       "  {'Street': 'Dada Gongo', 'Postal Code': '902101'},\n",
       "  {'Street': 'Dadabiri', 'Postal Code': '902101'},\n",
       "  {'Street': 'Damin Kara', 'Postal Code': '902101'},\n",
       "  {'Street': 'Dawaki', 'Postal Code': '902101'},\n",
       "  {'Street': 'Didan Tujura', 'Postal Code': '902101'},\n",
       "  {'Street': 'Diko', 'Postal Code': '902101'},\n",
       "  {'Street': 'Dikwa Gwari', 'Postal Code': '902101'},\n",
       "  {'Street': 'Dikwa Kotwa', 'Postal Code': '902101'},\n",
       "  {'Street': 'Dobi', 'Postal Code': '902101'},\n",
       "  {'Street': 'Doni', 'Postal Code': '902101'},\n",
       "  {'Street': 'Doruwa', 'Postal Code': '902101'},\n",
       "  {'Street': 'Eabodo', 'Postal Code': '902101'},\n",
       "  {'Street': 'Garin Godoso', 'Postal Code': '902101'},\n",
       "  {'Street': 'Gbadolo', 'Postal Code': '902101'},\n",
       "  {'Street': 'Gerin Angulu', 'Postal Code': '902101'},\n",
       "  {'Street': 'Gidan Ango', 'Postal Code': '902101'},\n",
       "  {'Street': 'Gidan Bala', 'Postal Code': '902101'},\n",
       "  {'Street': 'Gidan Dandu', 'Postal Code': '902101'},\n",
       "  {'Street': 'Gidan Gade', 'Postal Code': '902101'},\n",
       "  {'Street': 'Gidan Golo', 'Postal Code': '902101'},\n",
       "  {'Street': 'Gidan Yaro', 'Postal Code': '902101'},\n",
       "  {'Street': 'Goi', 'Postal Code': '902101'},\n",
       "  {'Street': 'Goi Sabo', 'Postal Code': '902101'},\n",
       "  {'Street': 'Gongo', 'Postal Code': '902101'},\n",
       "  {'Street': 'Gulupe', 'Postal Code': '902101'},\n",
       "  {'Street': 'Gurebare', 'Postal Code': '902101'},\n",
       "  {'Street': 'Gurfa Gongo', 'Postal Code': '902101'},\n",
       "  {'Street': 'Gurfata', 'Postal Code': '902101'},\n",
       "  {'Street': 'Gurfata Sabo', 'Postal Code': '902101'},\n",
       "  {'Street': 'Gwako', 'Postal Code': '902101'},\n",
       "  {'Street': 'Gwale', 'Postal Code': '902101'},\n",
       "  {'Street': 'Gwari', 'Postal Code': '902101'},\n",
       "  {'Street': 'Gwaywalada', 'Postal Code': '902101'},\n",
       "  {'Street': 'Gyabiri', 'Postal Code': '902101'},\n",
       "  {'Street': 'Hanagada Abdu', 'Postal Code': '902101'},\n",
       "  {'Street': 'Hanagada Bassa', 'Postal Code': '902101'},\n",
       "  {'Street': 'Ibbo', 'Postal Code': '902101'},\n",
       "  {'Street': 'Ibwa', 'Postal Code': '902101'},\n",
       "  {'Street': 'Ibwa Sarki', 'Postal Code': '902101'},\n",
       "  {'Street': 'Ikwa', 'Postal Code': '902101'},\n",
       "  {'Street': 'Isom Bassa', 'Postal Code': '902101'},\n",
       "  {'Street': 'Isom Fulani', 'Postal Code': '902101'},\n",
       "  {'Street': 'Jalita Gongo', 'Postal Code': '902101'},\n",
       "  {'Street': 'Jigodo I', 'Postal Code': '902101'},\n",
       "  {'Street': 'Jiwape', 'Postal Code': '902101'},\n",
       "  {'Street': 'Kaburufi', 'Postal Code': '902101'},\n",
       "  {'Street': 'Kace Bassa', 'Postal Code': '902101'},\n",
       "  {'Street': 'Kace Sabo', 'Postal Code': '902101'},\n",
       "  {'Street': 'Kace Sarki', 'Postal Code': '902101'},\n",
       "  {'Street': 'Kaida Bassa', 'Postal Code': '902101'},\n",
       "  {'Street': 'Kaida Gwari', 'Postal Code': '902101'},\n",
       "  {'Street': 'Kaida Sabo', 'Postal Code': '902101'},\n",
       "  {'Street': 'Kalangu', 'Postal Code': '902101'},\n",
       "  {'Street': 'Kasanki', 'Postal Code': '902101'},\n",
       "  {'Street': 'Kpatawuro', 'Postal Code': '902101'},\n",
       "  {'Street': 'Kutabwche', 'Postal Code': '902101'},\n",
       "  {'Street': 'Kutunku', 'Postal Code': '902101'},\n",
       "  {'Street': 'Kuturpe', 'Postal Code': '902101'},\n",
       "  {'Street': 'Kwalikuzi', 'Postal Code': '902101'},\n",
       "  {'Street': 'Lafiya', 'Postal Code': '902101'},\n",
       "  {'Street': 'Ledi', 'Postal Code': '902101'},\n",
       "  {'Street': 'Ledi Sabo', 'Postal Code': '902101'},\n",
       "  {'Street': 'Madaki Abuche', 'Postal Code': '902101'},\n",
       "  {'Street': 'Maikaraya', 'Postal Code': '902101'},\n",
       "  {'Street': 'Maje Bassa', 'Postal Code': '902101'},\n",
       "  {'Street': 'Maje Tsoho', 'Postal Code': '902101'},\n",
       "  {'Street': 'Makama', 'Postal Code': '902101'},\n",
       "  {'Street': 'Momo Sabo', 'Postal Code': '902101'},\n",
       "  {'Street': 'Pabeyi', 'Postal Code': '902101'},\n",
       "  {'Street': 'Pagada', 'Postal Code': '902101'},\n",
       "  {'Street': 'Pagena I', 'Postal Code': '902101'},\n",
       "  {'Street': 'Paiken Korce', 'Postal Code': '902101'},\n",
       "  {'Street': 'Paiko', 'Postal Code': '902101'},\n",
       "  {'Street': 'Pajana II', 'Postal Code': '902101'},\n",
       "  {'Street': 'Pako', 'Postal Code': '902101'},\n",
       "  {'Street': 'Paso Gwari', 'Postal Code': '902101'},\n",
       "  {'Street': 'Pass Kutawa', 'Postal Code': '902101'},\n",
       "  {'Street': 'Patte', 'Postal Code': '902101'},\n",
       "  {'Street': 'Rafin Zurfi', 'Postal Code': '902101'},\n",
       "  {'Street': 'Rain Zurfi', 'Postal Code': '902101'},\n",
       "  {'Street': 'S/Ganuwa', 'Postal Code': '902101'},\n",
       "  {'Street': 'Sabo', 'Postal Code': '902101'},\n",
       "  {'Street': 'Saboda', 'Postal Code': '902101'},\n",
       "  {'Street': 'Sabon Gari', 'Postal Code': '902101'},\n",
       "  {'Street': 'Shaga I', 'Postal Code': '902101'},\n",
       "  {'Street': 'Shaga II', 'Postal Code': '902101'},\n",
       "  {'Street': 'Shajantara', 'Postal Code': '902101'},\n",
       "  {'Street': 'Shanagu', 'Postal Code': '902101'},\n",
       "  {'Street': 'Shara Bassa', 'Postal Code': '902101'},\n",
       "  {'Street': 'Shibo', 'Postal Code': '902101'},\n",
       "  {'Street': 'Shibo Bassa', 'Postal Code': '902101'},\n",
       "  {'Street': 'Shida', 'Postal Code': '902101'},\n",
       "  {'Street': 'Shidhida', 'Postal Code': '902101'},\n",
       "  {'Street': 'Shinge', 'Postal Code': '902101'},\n",
       "  {'Street': 'Soko', 'Postal Code': '902101'},\n",
       "  {'Street': 'Tsagban Siji', 'Postal Code': '902101'},\n",
       "  {'Street': 'Tsaunia Kura', 'Postal Code': '902101'},\n",
       "  {'Street': 'Tsudna', 'Postal Code': '902101'},\n",
       "  {'Street': 'Tundun Wada', 'Postal Code': '902101'},\n",
       "  {'Street': 'Tung Tsauni', 'Postal Code': '902101'},\n",
       "  {'Street': 'Tunga Makeri', 'Postal Code': '902101'},\n",
       "  {'Street': 'Tungan Adamu', 'Postal Code': '902101'},\n",
       "  {'Street': 'Tungan Auta', 'Postal Code': '902101'},\n",
       "  {'Street': 'Tungan D. Kolo', 'Postal Code': '902101'},\n",
       "  {'Street': 'Tungan Giwa', 'Postal Code': '902101'},\n",
       "  {'Street': 'Tungan Jika', 'Postal Code': '902101'},\n",
       "  {'Street': 'Tungan Kakaki', 'Postal Code': '902101'},\n",
       "  {'Street': 'Tungan Ladan', 'Postal Code': '902101'},\n",
       "  {'Street': 'Tungan M. Hassan', 'Postal Code': '902101'},\n",
       "  {'Street': 'Tungan Maikasuwa', 'Postal Code': '902101'},\n",
       "  {'Street': 'Tungan Pada', 'Postal Code': '902101'},\n",
       "  {'Street': 'Tungan S. Pada', 'Postal Code': '902101'},\n",
       "  {'Street': 'Tungan Salihu', 'Postal Code': '902101'},\n",
       "  {'Street': 'Tungan Tsauni', 'Postal Code': '902101'},\n",
       "  {'Street': 'Ung Gade', 'Postal Code': '902101'},\n",
       "  {'Street': 'Ung. Bassa', 'Postal Code': '902101'},\n",
       "  {'Street': 'Ung. Gwari', 'Postal Code': '902101'},\n",
       "  {'Street': 'Wagu Wase-Gyan', 'Postal Code': '902101'},\n",
       "  {'Street': 'Wuma', 'Postal Code': '902101'},\n",
       "  {'Street': 'Wumi', 'Postal Code': '902101'},\n",
       "  {'Street': 'Wurumbi', 'Postal Code': '902101'},\n",
       "  {'Street': 'Wuye-Wuye', 'Postal Code': '902101'},\n",
       "  {'Street': 'Yaluan Ibwa', 'Postal Code': '902101'},\n",
       "  {'Street': 'Yemipe', 'Postal Code': '902101'},\n",
       "  {'Street': 'Zuba', 'Postal Code': '902101'}]}"
      ]
     },
     "execution_count": 237,
     "metadata": {},
     "output_type": "execute_result"
    }
   ],
   "source": [
    "clean_data"
   ]
  }
 ],
 "metadata": {
  "kernelspec": {
   "display_name": "venv",
   "language": "python",
   "name": "python3"
  },
  "language_info": {
   "codemirror_mode": {
    "name": "ipython",
    "version": 3
   },
   "file_extension": ".py",
   "mimetype": "text/x-python",
   "name": "python",
   "nbconvert_exporter": "python",
   "pygments_lexer": "ipython3",
   "version": "3.11.4"
  }
 },
 "nbformat": 4,
 "nbformat_minor": 2
}
