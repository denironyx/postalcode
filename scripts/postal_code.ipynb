{
 "cells": [
  {
   "cell_type": "code",
   "execution_count": 15,
   "metadata": {},
   "outputs": [],
   "source": [
    "import pandas as pd\n",
    "import requests\n",
    "from bs4 import BeautifulSoup\n",
    "\n",
    "# add url \n",
    "url = \"https://www.zipcode.com.ng/2021/08/abuja-town-postal-code.html#garkia1\""
   ]
  },
  {
   "cell_type": "code",
   "execution_count": 158,
   "metadata": {},
   "outputs": [],
   "source": [
    "url_codes = ['abuja-town', 'kwali-lga', 'abaji-lga']"
   ]
  },
  {
   "cell_type": "code",
   "execution_count": null,
   "metadata": {},
   "outputs": [],
   "source": [
    "url_codes = ['abuja-town', 'kwali-lga', 'abaji-lga', 'kuje-lga', 'bwari-lga']\n",
    "\n",
    "url = f\"https://www.zipcode.com.ng/2021/08/{code}-code.html\""
   ]
  },
  {
   "cell_type": "code",
   "execution_count": 160,
   "metadata": {},
   "outputs": [],
   "source": [
    "import pandas as pd\n",
    "import requests\n",
    "from bs4 import BeautifulSoup"
   ]
  },
  {
   "cell_type": "code",
   "execution_count": 250,
   "metadata": {},
   "outputs": [
    {
     "name": "stdout",
     "output_type": "stream",
     "text": [
      "200\n",
      "#> webpage don't contain h3 tag\n",
      "200\n",
      "#> webpage don't contain h3 tag\n",
      "200\n",
      "#> webpage don't contain h3 tag\n",
      "200\n",
      "#> webpage is using table blocks\n",
      "200\n",
      "#> webpage is using table blocks\n",
      "200\n",
      "#> webpage don't contain h3 tag\n"
     ]
    }
   ],
   "source": [
    "\n",
    "url_codes = ['abuja-town', 'kwali-lga', 'abaji-lga', 'bwari-lga', 'gwagwalada-lga', 'kuje-lga']\n",
    "\n",
    "postal_codes_data = {}\n",
    "\n",
    "for code in url_codes:\n",
    "    \n",
    "    url = f\"https://www.zipcode.com.ng/2021/08/{code}-postal-code.html\"\n",
    "    \n",
    "    response = requests.get(url)\n",
    "\n",
    "    print(response.status_code)\n",
    "\n",
    "    # Parse the HTML content using Beautiful Soup\n",
    "    soup = BeautifulSoup(response.content, \"html.parser\")\n",
    "\n",
    "    # Find the code-list div which contians the postal code data\n",
    "    code_list_div = soup.find('div', class_ = 'table-responsive')\n",
    "    \n",
    "    if code_list_div is None:\n",
    "        \n",
    "        code_list_div = soup.find('div', class_ = 'code-list')\n",
    "        \n",
    "        items = code_list_div.find_all(['h3', 'li'])\n",
    "\n",
    "        items[0].name\n",
    "\n",
    "        if items[0].name == 'h3':\n",
    "            print(\"#> webpage contains h3 tag\")\n",
    "            for item in items:\n",
    "                if item.name == 'h3':\n",
    "                    area = item.text\n",
    "                    postal_codes_data[area] = []\n",
    "                elif item.name == 'li':\n",
    "                    street_name = item.find('div', class_ = 'listl').text\n",
    "                    postal_code = item.find('div', class_ = 'listr').text\n",
    "                    # append the data\n",
    "                    postal_codes_data[area].append({'Street': street_name, \"Postal Code\": postal_code})\n",
    "        else:\n",
    "            print(\"#> webpage don't contain h3 tag\")\n",
    "            for item in items:\n",
    "                street_name = item.find('div', class_='listl').text.strip()\n",
    "                postal_code = item.find('div', class_='listr').text.strip()\n",
    "                area_item = item.find_previous('div', class_='clist')\n",
    "                if area_item:\n",
    "                    area = area_item.text.strip()\n",
    "                    # add data to the area data dictionary\n",
    "                    if area not in postal_codes_data:\n",
    "                        postal_codes_data[area] = []\n",
    "                    postal_codes_data[area].append({'Street': street_name, 'Postal Code': postal_code})\n",
    "    else:\n",
    "        print(\"#> webpage is using table blocks\")\n",
    "        # Find the code-list div which contians the postal code data\n",
    "        items = code_list_div.find_all(['tr'])\n",
    "\n",
    "        for item in items:\n",
    "            td_tags = item.find_all('td')[:3]\n",
    "            if len(td_tags) == 3:\n",
    "                street_name = td_tags[0].text.strip()\n",
    "                postal_code = td_tags[1].text.strip()\n",
    "                area = td_tags[2].text.strip()\n",
    "                if area in postal_codes_data:\n",
    "                    postal_codes_data[area].append({'Street': street_name, 'Postal Code': postal_code})\n",
    "                else:\n",
    "                    postal_codes_data[area] = [{'Street': street_name, 'Postal Code': postal_code}]"
   ]
  },
  {
   "cell_type": "code",
   "execution_count": 251,
   "metadata": {},
   "outputs": [
    {
     "data": {
      "text/plain": [
       "dict_keys(['Asokoro', 'Central Business District', 'Garki Area 1', 'Garki Area 2', 'Garki Area 3', 'Garki Area 7', 'Garki Area 8', 'Garki Area 10', 'Garki Area 11', 'Maitama', 'Three Arms Zone', 'Wuse II', 'Wuse Zone 1', 'Wuse Zone 2', 'Wuse Zone 3', 'Wuse Zone 4', 'Wuse Zone 5', 'Wuse Zone 6', 'Wuse Zone 7', 'Ashara', 'Dafa', 'Gumbo', 'Kilankwa', 'Kwali', 'Pai', 'Yangoji', 'Yebu', 'Wako', 'Abaji', 'Yaba', 'Bwari', 'Gwagwalada', 'Kuje', 'Rubbochi'])"
      ]
     },
     "execution_count": 251,
     "metadata": {},
     "output_type": "execute_result"
    }
   ],
   "source": [
    "postal_codes_data.keys()"
   ]
  },
  {
   "cell_type": "code",
   "execution_count": 252,
   "metadata": {},
   "outputs": [],
   "source": [
    "data = []"
   ]
  },
  {
   "cell_type": "code",
   "execution_count": 253,
   "metadata": {},
   "outputs": [],
   "source": [
    "for area, streets, in postal_codes_data.items():\n",
    "    for street_info in streets:\n",
    "        data.append({'Area': area, 'Street': street_info['Street'], 'Postal Code': street_info['Postal Code']})\n"
   ]
  },
  {
   "cell_type": "code",
   "execution_count": null,
   "metadata": {},
   "outputs": [],
   "source": []
  },
  {
   "cell_type": "code",
   "execution_count": 254,
   "metadata": {},
   "outputs": [],
   "source": [
    "df = pd.DataFrame(data)"
   ]
  },
  {
   "cell_type": "code",
   "execution_count": 255,
   "metadata": {},
   "outputs": [],
   "source": [
    "df.replace(to_replace='St.', value='Street', regex=True, inplace=True)\n",
    "df.replace(to_replace='Cr.', value='Cresent', regex=True, inplace=True)"
   ]
  },
  {
   "cell_type": "code",
   "execution_count": 256,
   "metadata": {},
   "outputs": [
    {
     "data": {
      "text/plain": [
       "839"
      ]
     },
     "execution_count": 256,
     "metadata": {},
     "output_type": "execute_result"
    }
   ],
   "source": [
    "len(df)"
   ]
  },
  {
   "cell_type": "code",
   "execution_count": 257,
   "metadata": {},
   "outputs": [
    {
     "data": {
      "text/html": [
       "<div>\n",
       "<style scoped>\n",
       "    .dataframe tbody tr th:only-of-type {\n",
       "        vertical-align: middle;\n",
       "    }\n",
       "\n",
       "    .dataframe tbody tr th {\n",
       "        vertical-align: top;\n",
       "    }\n",
       "\n",
       "    .dataframe thead th {\n",
       "        text-align: right;\n",
       "    }\n",
       "</style>\n",
       "<table border=\"1\" class=\"dataframe\">\n",
       "  <thead>\n",
       "    <tr style=\"text-align: right;\">\n",
       "      <th></th>\n",
       "      <th>Area</th>\n",
       "      <th>Street</th>\n",
       "      <th>Postal Code</th>\n",
       "    </tr>\n",
       "  </thead>\n",
       "  <tbody>\n",
       "    <tr>\n",
       "      <th>0</th>\n",
       "      <td>Asokoro</td>\n",
       "      <td>Ajayi Cresentwder Street</td>\n",
       "      <td>900231</td>\n",
       "    </tr>\n",
       "    <tr>\n",
       "      <th>1</th>\n",
       "      <td>Asokoro</td>\n",
       "      <td>Akenzua Street</td>\n",
       "      <td>900231</td>\n",
       "    </tr>\n",
       "    <tr>\n",
       "      <th>2</th>\n",
       "      <td>Asokoro</td>\n",
       "      <td>Ali Akihi Cresent</td>\n",
       "      <td>900231</td>\n",
       "    </tr>\n",
       "    <tr>\n",
       "      <th>3</th>\n",
       "      <td>Asokoro</td>\n",
       "      <td>Anwar Sadat Street</td>\n",
       "      <td>900231</td>\n",
       "    </tr>\n",
       "    <tr>\n",
       "      <th>4</th>\n",
       "      <td>Asokoro</td>\n",
       "      <td>Dennis Osadebe Street</td>\n",
       "      <td>900231</td>\n",
       "    </tr>\n",
       "    <tr>\n",
       "      <th>...</th>\n",
       "      <td>...</td>\n",
       "      <td>...</td>\n",
       "      <td>...</td>\n",
       "    </tr>\n",
       "    <tr>\n",
       "      <th>834</th>\n",
       "      <td>Rubbochi</td>\n",
       "      <td>Yaba</td>\n",
       "      <td>903102</td>\n",
       "    </tr>\n",
       "    <tr>\n",
       "      <th>835</th>\n",
       "      <td>Rubbochi</td>\n",
       "      <td>Yewusa</td>\n",
       "      <td>903102</td>\n",
       "    </tr>\n",
       "    <tr>\n",
       "      <th>836</th>\n",
       "      <td>Rubbochi</td>\n",
       "      <td>Zagabutu</td>\n",
       "      <td>903102</td>\n",
       "    </tr>\n",
       "    <tr>\n",
       "      <th>837</th>\n",
       "      <td>Rubbochi</td>\n",
       "      <td>Zoge</td>\n",
       "      <td>903102</td>\n",
       "    </tr>\n",
       "    <tr>\n",
       "      <th>838</th>\n",
       "      <td>Rubbochi</td>\n",
       "      <td>Zokutu</td>\n",
       "      <td>903102</td>\n",
       "    </tr>\n",
       "  </tbody>\n",
       "</table>\n",
       "<p>839 rows × 3 columns</p>\n",
       "</div>"
      ],
      "text/plain": [
       "         Area                    Street Postal Code\n",
       "0     Asokoro  Ajayi Cresentwder Street      900231\n",
       "1     Asokoro            Akenzua Street      900231\n",
       "2     Asokoro         Ali Akihi Cresent      900231\n",
       "3     Asokoro        Anwar Sadat Street      900231\n",
       "4     Asokoro     Dennis Osadebe Street      900231\n",
       "..        ...                       ...         ...\n",
       "834  Rubbochi                      Yaba      903102\n",
       "835  Rubbochi                    Yewusa      903102\n",
       "836  Rubbochi                  Zagabutu      903102\n",
       "837  Rubbochi                      Zoge      903102\n",
       "838  Rubbochi                    Zokutu      903102\n",
       "\n",
       "[839 rows x 3 columns]"
      ]
     },
     "execution_count": 257,
     "metadata": {},
     "output_type": "execute_result"
    }
   ],
   "source": [
    "df"
   ]
  },
  {
   "cell_type": "code",
   "execution_count": 258,
   "metadata": {},
   "outputs": [],
   "source": [
    "# exporting dataframe\n",
    "df.to_csv('../data/fct-postal-code.csv')"
   ]
  },
  {
   "cell_type": "code",
   "execution_count": 260,
   "metadata": {},
   "outputs": [],
   "source": [
    "import json\n",
    "\n",
    "json_df = json.dumps(postal_codes_data, indent=4)\n",
    "\n",
    "with open('../data/fct-postal-codes2.json','w') as json_file:\n",
    "    json_file.write(json_df)"
   ]
  }
 ],
 "metadata": {
  "kernelspec": {
   "display_name": "venv",
   "language": "python",
   "name": "python3"
  },
  "language_info": {
   "codemirror_mode": {
    "name": "ipython",
    "version": 3
   },
   "file_extension": ".py",
   "mimetype": "text/x-python",
   "name": "python",
   "nbconvert_exporter": "python",
   "pygments_lexer": "ipython3",
   "version": "3.11.4"
  }
 },
 "nbformat": 4,
 "nbformat_minor": 2
}
